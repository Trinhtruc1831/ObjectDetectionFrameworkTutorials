{
 "cells": [
  {
   "cell_type": "code",
   "execution_count": null,
   "metadata": {},
   "outputs": [],
   "source": [
    "#create folder structure"
   ]
  },
  {
   "cell_type": "code",
   "execution_count": null,
   "metadata": {},
   "outputs": [],
   "source": [
    "%cd /Users/trinhtruc/Documents/STUDY/Khoa học dữ liệu ảnh_Nền tảng và Ứng dụng/230104026_Lab2/ObjectDetectionExample/TensorFlow"
   ]
  },
  {
   "cell_type": "code",
   "execution_count": 9,
   "metadata": {},
   "outputs": [
    {
     "name": "stdout",
     "output_type": "stream",
     "text": [
      "Cloning into 'models'...\n",
      "remote: Enumerating objects: 90351, done.\u001b[K\n",
      "remote: Counting objects: 100% (146/146), done.\u001b[K\n",
      "remote: Compressing objects: 100% (82/82), done.\u001b[K\n",
      "remote: Total 90351 (delta 72), reused 128 (delta 64), pack-reused 90205\u001b[K\n",
      "Receiving objects: 100% (90351/90351), 608.42 MiB | 4.32 MiB/s, done.\n",
      "Resolving deltas: 100% (65087/65087), done.\n"
     ]
    }
   ],
   "source": [
    "!git config --global http.postBuffer 524288000\n",
    "!git clone https://github.com/tensorflow/models.git"
   ]
  },
  {
   "cell_type": "code",
   "execution_count": null,
   "metadata": {},
   "outputs": [],
   "source": [
    "!export PYTHONPATH=$PYTHONPATH:/path/to/models"
   ]
  },
  {
   "cell_type": "code",
   "execution_count": 10,
   "metadata": {},
   "outputs": [
    {
     "name": "stdout",
     "output_type": "stream",
     "text": [
      "Defaulting to user installation because normal site-packages is not writeable\n",
      "Collecting labelImg\n",
      "  Downloading labelImg-1.8.6.tar.gz (247 kB)\n",
      "\u001b[2K     \u001b[90m━━━━━━━━━━━━━━━━━━━━━━━━━━━━━━━━━━━━━━━\u001b[0m \u001b[32m247.7/247.7 kB\u001b[0m \u001b[31m2.2 MB/s\u001b[0m eta \u001b[36m0:00:00\u001b[0ma \u001b[36m0:00:01\u001b[0m\n",
      "\u001b[?25h  Preparing metadata (setup.py) ... \u001b[?25ldone\n",
      "\u001b[?25hCollecting pyqt5 (from labelImg)\n",
      "  Downloading PyQt5-5.15.10-cp37-abi3-macosx_11_0_arm64.whl.metadata (2.1 kB)\n",
      "Collecting lxml (from labelImg)\n",
      "  Downloading lxml-5.1.0-cp39-cp39-macosx_11_0_arm64.whl.metadata (3.5 kB)\n",
      "Collecting PyQt5-sip<13,>=12.13 (from pyqt5->labelImg)\n",
      "  Downloading PyQt5_sip-12.13.0-cp39-cp39-macosx_10_9_universal2.whl.metadata (504 bytes)\n",
      "Collecting PyQt5-Qt5>=5.15.2 (from pyqt5->labelImg)\n",
      "  Downloading PyQt5_Qt5-5.15.12-py3-none-macosx_11_0_arm64.whl.metadata (536 bytes)\n",
      "Downloading lxml-5.1.0-cp39-cp39-macosx_11_0_arm64.whl (4.5 MB)\n",
      "\u001b[2K   \u001b[90m━━━━━━━━━━━━━━━━━━━━━━━━━━━━━━━━━━━━━━━━\u001b[0m \u001b[32m4.5/4.5 MB\u001b[0m \u001b[31m7.1 MB/s\u001b[0m eta \u001b[36m0:00:00\u001b[0m00:01\u001b[0m00:01\u001b[0mm\n",
      "\u001b[?25hDownloading PyQt5-5.15.10-cp37-abi3-macosx_11_0_arm64.whl (6.6 MB)\n",
      "\u001b[2K   \u001b[90m━━━━━━━━━━━━━━━━━━━━━━━━━━━━━━━━━━━━━━━━\u001b[0m \u001b[32m6.6/6.6 MB\u001b[0m \u001b[31m4.3 MB/s\u001b[0m eta \u001b[36m0:00:00\u001b[0m00:01\u001b[0m00:01\u001b[0m\n",
      "\u001b[?25hDownloading PyQt5_Qt5-5.15.12-py3-none-macosx_11_0_arm64.whl (36.7 MB)\n",
      "\u001b[2K   \u001b[90m━━━━━━━━━━━━━━━━━━━━━━━━━━━━━━━━━━━━━━━━\u001b[0m \u001b[32m36.7/36.7 MB\u001b[0m \u001b[31m1.6 MB/s\u001b[0m eta \u001b[36m0:00:00\u001b[0m00:01\u001b[0m00:01\u001b[0m\n",
      "\u001b[?25hDownloading PyQt5_sip-12.13.0-cp39-cp39-macosx_10_9_universal2.whl (144 kB)\n",
      "\u001b[2K   \u001b[90m━━━━━━━━━━━━━━━━━━━━━━━━━━━━━━━━━━━━━━━━\u001b[0m \u001b[32m144.4/144.4 kB\u001b[0m \u001b[31m2.1 MB/s\u001b[0m eta \u001b[36m0:00:00\u001b[0ma \u001b[36m0:00:01\u001b[0m\n",
      "\u001b[?25hBuilding wheels for collected packages: labelImg\n",
      "  Building wheel for labelImg (setup.py) ... \u001b[?25ldone\n",
      "\u001b[?25h  Created wheel for labelImg: filename=labelImg-1.8.6-py2.py3-none-any.whl size=261540 sha256=67074b35a7c8a5117f11ea144730c578312f5789f3c6f3fce71f67c4400ccd55\n",
      "  Stored in directory: /Users/trinhtruc/Library/Caches/pip/wheels/a0/2d/29/aaf47d232f5b03ec3e64a8432032f328dfdea1714041712bf6\n",
      "Successfully built labelImg\n",
      "Installing collected packages: PyQt5-Qt5, PyQt5-sip, lxml, pyqt5, labelImg\n",
      "Successfully installed PyQt5-Qt5-5.15.12 PyQt5-sip-12.13.0 labelImg-1.8.6 lxml-5.1.0 pyqt5-5.15.10\n",
      "\n",
      "\u001b[1m[\u001b[0m\u001b[34;49mnotice\u001b[0m\u001b[1;39;49m]\u001b[0m\u001b[39;49m A new release of pip is available: \u001b[0m\u001b[31;49m23.3.1\u001b[0m\u001b[39;49m -> \u001b[0m\u001b[32;49m23.3.2\u001b[0m\n",
      "\u001b[1m[\u001b[0m\u001b[34;49mnotice\u001b[0m\u001b[1;39;49m]\u001b[0m\u001b[39;49m To update, run: \u001b[0m\u001b[32;49m/Library/Developer/CommandLineTools/usr/bin/python3 -m pip install --upgrade pip\u001b[0m\n",
      "Note: you may need to restart the kernel to use updated packages.\n"
     ]
    }
   ],
   "source": [
    "%pip install labelImg"
   ]
  },
  {
   "cell_type": "code",
   "execution_count": 12,
   "metadata": {},
   "outputs": [],
   "source": [
    "!labelImg"
   ]
  },
  {
   "cell_type": "code",
   "execution_count": 13,
   "metadata": {},
   "outputs": [
    {
     "name": "stdout",
     "output_type": "stream",
     "text": [
      "/Users/trinhtruc/Documents/STUDY/Khoa học dữ liệu ảnh_Nền tảng và Ứng dụng/230104026_Lab2/ObjectDetectionExample/dataset\n"
     ]
    }
   ],
   "source": [
    "%cd dataset\n"
   ]
  },
  {
   "cell_type": "code",
   "execution_count": 16,
   "metadata": {},
   "outputs": [],
   "source": [
    "import os\n",
    "\n",
    "def rename_files(directory):\n",
    "    # List all files in the directory\n",
    "    files = os.listdir(directory)\n",
    "    t = 1\n",
    "    for file in files:\n",
    "        ext_file = file.split(\".\")[-1]\n",
    "        if (ext_file != \"DS_Store\"):\n",
    "            # Construct the new file name by adding a prefix\n",
    "            new_name = f\"{str(t)}.{ext_file}\"\n",
    "\n",
    "            # # Build the full paths\n",
    "            old_path = os.path.join(directory, file)\n",
    "            new_path = os.path.join(directory, new_name)\n",
    "\n",
    "            # # Rename the file\n",
    "            os.rename(old_path, new_path)\n",
    "            # print(f'Renamed: {old_path} to {new_path}')\n",
    "            t = t + 1\n",
    "\n",
    "# Specify the directory and prefix\n",
    "directory_path = './'\n",
    "\n",
    "# Rename files in the specified directory with the given prefix\n",
    "rename_files(directory_path)"
   ]
  }
 ],
 "metadata": {
  "kernelspec": {
   "display_name": "Python 3",
   "language": "python",
   "name": "python3"
  },
  "language_info": {
   "codemirror_mode": {
    "name": "ipython",
    "version": 3
   },
   "file_extension": ".py",
   "mimetype": "text/x-python",
   "name": "python",
   "nbconvert_exporter": "python",
   "pygments_lexer": "ipython3",
   "version": "3.9.6"
  }
 },
 "nbformat": 4,
 "nbformat_minor": 2
}
